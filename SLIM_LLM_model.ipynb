{
 "cells": [
  {
   "cell_type": "code",
   "execution_count": 3,
   "id": "8f136e5b-2cae-4c9b-90c4-dc9a437a2982",
   "metadata": {},
   "outputs": [
    {
     "name": "stdout",
     "output_type": "stream",
     "text": [
      "Collecting llmware\n",
      "  Using cached llmware-0.3.9-py3-none-any.whl.metadata (70 kB)\n",
      "Collecting boto3>=1.24.53 (from llmware)\n",
      "  Downloading boto3-1.35.83-py3-none-any.whl.metadata (6.7 kB)\n",
      "Requirement already satisfied: huggingface-hub>=0.19.4 in /home/akhil/.pyenv/versions/3.11.8/lib/python3.11/site-packages (from llmware) (0.25.0)\n",
      "Requirement already satisfied: numpy>=1.23.2 in /home/akhil/.pyenv/versions/3.11.8/lib/python3.11/site-packages (from llmware) (1.24.3)\n",
      "Collecting pymongo>=4.7.0 (from llmware)\n",
      "  Using cached pymongo-4.10.1-cp311-cp311-manylinux_2_17_x86_64.manylinux2014_x86_64.whl.metadata (22 kB)\n",
      "Requirement already satisfied: tokenizers>=0.15.0 in /home/akhil/.pyenv/versions/3.11.8/lib/python3.11/site-packages (from llmware) (0.19.1)\n",
      "Collecting psycopg-binary==3.1.17 (from llmware)\n",
      "  Using cached psycopg_binary-3.1.17-cp311-cp311-manylinux_2_17_x86_64.manylinux2014_x86_64.whl.metadata (2.8 kB)\n",
      "Collecting psycopg==3.1.17 (from llmware)\n",
      "  Using cached psycopg-3.1.17-py3-none-any.whl.metadata (4.2 kB)\n",
      "Collecting pgvector==0.2.4 (from llmware)\n",
      "  Using cached pgvector-0.2.4-py2.py3-none-any.whl.metadata (9.8 kB)\n",
      "Collecting colorama==0.4.6 (from llmware)\n",
      "  Using cached colorama-0.4.6-py2.py3-none-any.whl.metadata (17 kB)\n",
      "Collecting soundfile>=0.12.0 (from llmware)\n",
      "  Using cached soundfile-0.12.1-py2.py3-none-manylinux_2_31_x86_64.whl.metadata (14 kB)\n",
      "Collecting soxr>=0.5.0 (from llmware)\n",
      "  Using cached soxr-0.5.0.post1-cp311-cp311-manylinux_2_17_x86_64.manylinux2014_x86_64.whl.metadata (5.6 kB)\n",
      "Requirement already satisfied: typing-extensions>=4.1 in /home/akhil/.pyenv/versions/3.11.8/lib/python3.11/site-packages (from psycopg==3.1.17->llmware) (4.12.2)\n",
      "Collecting botocore<1.36.0,>=1.35.83 (from boto3>=1.24.53->llmware)\n",
      "  Downloading botocore-1.35.83-py3-none-any.whl.metadata (5.7 kB)\n",
      "Collecting jmespath<2.0.0,>=0.7.1 (from boto3>=1.24.53->llmware)\n",
      "  Using cached jmespath-1.0.1-py3-none-any.whl.metadata (7.6 kB)\n",
      "Collecting s3transfer<0.11.0,>=0.10.0 (from boto3>=1.24.53->llmware)\n",
      "  Using cached s3transfer-0.10.4-py3-none-any.whl.metadata (1.7 kB)\n",
      "Requirement already satisfied: filelock in /home/akhil/.pyenv/versions/3.11.8/lib/python3.11/site-packages (from huggingface-hub>=0.19.4->llmware) (3.16.1)\n",
      "Requirement already satisfied: fsspec>=2023.5.0 in /home/akhil/.pyenv/versions/3.11.8/lib/python3.11/site-packages (from huggingface-hub>=0.19.4->llmware) (2024.9.0)\n",
      "Requirement already satisfied: packaging>=20.9 in /home/akhil/.pyenv/versions/3.11.8/lib/python3.11/site-packages (from huggingface-hub>=0.19.4->llmware) (24.1)\n",
      "Requirement already satisfied: pyyaml>=5.1 in /home/akhil/.pyenv/versions/3.11.8/lib/python3.11/site-packages (from huggingface-hub>=0.19.4->llmware) (6.0.2)\n",
      "Requirement already satisfied: requests in /home/akhil/.pyenv/versions/3.11.8/lib/python3.11/site-packages (from huggingface-hub>=0.19.4->llmware) (2.32.3)\n",
      "Requirement already satisfied: tqdm>=4.42.1 in /home/akhil/.pyenv/versions/3.11.8/lib/python3.11/site-packages (from huggingface-hub>=0.19.4->llmware) (4.66.5)\n",
      "Collecting dnspython<3.0.0,>=1.16.0 (from pymongo>=4.7.0->llmware)\n",
      "  Using cached dnspython-2.7.0-py3-none-any.whl.metadata (5.8 kB)\n",
      "Requirement already satisfied: cffi>=1.0 in /home/akhil/.pyenv/versions/3.11.8/lib/python3.11/site-packages (from soundfile>=0.12.0->llmware) (1.17.1)\n",
      "Requirement already satisfied: python-dateutil<3.0.0,>=2.1 in /home/akhil/.pyenv/versions/3.11.8/lib/python3.11/site-packages (from botocore<1.36.0,>=1.35.83->boto3>=1.24.53->llmware) (2.9.0.post0)\n",
      "Requirement already satisfied: urllib3!=2.2.0,<3,>=1.25.4 in /home/akhil/.pyenv/versions/3.11.8/lib/python3.11/site-packages (from botocore<1.36.0,>=1.35.83->boto3>=1.24.53->llmware) (2.2.3)\n",
      "Requirement already satisfied: pycparser in /home/akhil/.pyenv/versions/3.11.8/lib/python3.11/site-packages (from cffi>=1.0->soundfile>=0.12.0->llmware) (2.22)\n",
      "Requirement already satisfied: charset-normalizer<4,>=2 in /home/akhil/.pyenv/versions/3.11.8/lib/python3.11/site-packages (from requests->huggingface-hub>=0.19.4->llmware) (3.3.2)\n",
      "Requirement already satisfied: idna<4,>=2.5 in /home/akhil/.pyenv/versions/3.11.8/lib/python3.11/site-packages (from requests->huggingface-hub>=0.19.4->llmware) (3.10)\n",
      "Requirement already satisfied: certifi>=2017.4.17 in /home/akhil/.pyenv/versions/3.11.8/lib/python3.11/site-packages (from requests->huggingface-hub>=0.19.4->llmware) (2024.8.30)\n",
      "Requirement already satisfied: six>=1.5 in /home/akhil/.pyenv/versions/3.11.8/lib/python3.11/site-packages (from python-dateutil<3.0.0,>=2.1->botocore<1.36.0,>=1.35.83->boto3>=1.24.53->llmware) (1.16.0)\n",
      "Using cached llmware-0.3.9-py3-none-any.whl (47.5 MB)\n",
      "Using cached colorama-0.4.6-py2.py3-none-any.whl (25 kB)\n",
      "Using cached pgvector-0.2.4-py2.py3-none-any.whl (9.6 kB)\n",
      "Using cached psycopg-3.1.17-py3-none-any.whl (178 kB)\n",
      "Using cached psycopg_binary-3.1.17-cp311-cp311-manylinux_2_17_x86_64.manylinux2014_x86_64.whl (3.3 MB)\n",
      "Downloading boto3-1.35.83-py3-none-any.whl (139 kB)\n",
      "Using cached pymongo-4.10.1-cp311-cp311-manylinux_2_17_x86_64.manylinux2014_x86_64.whl (1.7 MB)\n",
      "Using cached soundfile-0.12.1-py2.py3-none-manylinux_2_31_x86_64.whl (1.2 MB)\n",
      "Using cached soxr-0.5.0.post1-cp311-cp311-manylinux_2_17_x86_64.manylinux2014_x86_64.whl (252 kB)\n",
      "Downloading botocore-1.35.83-py3-none-any.whl (13.3 MB)\n",
      "\u001b[2K   \u001b[38;2;114;156;31m━━━━━━━━━━━━━━━━━━━━━━━━━━━━━━━━━━━━━━━━\u001b[0m \u001b[32m13.3/13.3 MB\u001b[0m \u001b[31m12.6 MB/s\u001b[0m eta \u001b[36m0:00:00\u001b[0m31m13.3 MB/s\u001b[0m eta \u001b[36m0:00:01\u001b[0m\n",
      "\u001b[?25hUsing cached dnspython-2.7.0-py3-none-any.whl (313 kB)\n",
      "Using cached jmespath-1.0.1-py3-none-any.whl (20 kB)\n",
      "Using cached s3transfer-0.10.4-py3-none-any.whl (83 kB)\n",
      "Installing collected packages: soxr, psycopg-binary, psycopg, pgvector, jmespath, dnspython, colorama, soundfile, pymongo, botocore, s3transfer, boto3, llmware\n",
      "Successfully installed boto3-1.35.83 botocore-1.35.83 colorama-0.4.6 dnspython-2.7.0 jmespath-1.0.1 llmware-0.3.9 pgvector-0.2.4 psycopg-3.1.17 psycopg-binary-3.1.17 pymongo-4.10.1 s3transfer-0.10.4 soundfile-0.12.1 soxr-0.5.0.post1\n",
      "\n",
      "\u001b[1m[\u001b[0m\u001b[34;49mnotice\u001b[0m\u001b[1;39;49m]\u001b[0m\u001b[39;49m A new release of pip is available: \u001b[0m\u001b[31;49m24.2\u001b[0m\u001b[39;49m -> \u001b[0m\u001b[32;49m24.3.1\u001b[0m\n",
      "\u001b[1m[\u001b[0m\u001b[34;49mnotice\u001b[0m\u001b[1;39;49m]\u001b[0m\u001b[39;49m To update, run: \u001b[0m\u001b[32;49mpip install --upgrade pip\u001b[0m\n"
     ]
    }
   ],
   "source": [
    "# install the llmware library\n",
    "!pip install llmware"
   ]
  },
  {
   "cell_type": "code",
   "execution_count": 4,
   "id": "406bcc6d-36d6-4984-b748-63f264691024",
   "metadata": {},
   "outputs": [],
   "source": [
    "# load the required libraries\n",
    "from llmware.configs import LLMWareConfig\n",
    "from llmware.models import ModelCatalog"
   ]
  },
  {
   "cell_type": "code",
   "execution_count": 5,
   "id": "f7b7d7c4-1a3a-43c8-add8-8fff78f59d80",
   "metadata": {},
   "outputs": [],
   "source": [
    "# Initialise the ModelCatalog\n",
    "model_catalog = ModelCatalog()"
   ]
  },
  {
   "cell_type": "code",
   "execution_count": 6,
   "id": "d4cdb37e-6ce1-4316-b302-7ddd62d158fd",
   "metadata": {},
   "outputs": [
    {
     "data": {
      "text/plain": [
       "{'ner': 'slim-ner-tool',\n",
       " 'sentiment': 'slim-sentiment-tool',\n",
       " 'topics': 'slim-topics-tool',\n",
       " 'ratings': 'slim-ratings-tool',\n",
       " 'emotions': 'slim-emotions-tool',\n",
       " 'nli': 'slim-nli-tool',\n",
       " 'sql': 'slim-sql-tool',\n",
       " 'tags': 'slim-tags-tool',\n",
       " 'answer': 'bling-answer-tool',\n",
       " 'category': 'slim-category-tool',\n",
       " 'intent': 'slim-intent-tool',\n",
       " 'summary': 'slim-summary-tool',\n",
       " 'xsum': 'slim-xsum-tool',\n",
       " 'extract': 'slim-extract-tool',\n",
       " 'boolean': 'slim-boolean-tool',\n",
       " 'sa-ner': 'slim-sa-ner-tool',\n",
       " 'tags-3b': 'slim-tags-3b-tool',\n",
       " 'q_gen': 'slim-q-gen-tiny-tool',\n",
       " 'qa_gen': 'slim-qa-gen-tiny-tool'}"
      ]
     },
     "execution_count": 6,
     "metadata": {},
     "output_type": "execute_result"
    }
   ],
   "source": [
    "# List the available models\n",
    "model_catalog.get_llm_fx_mapping()"
   ]
  },
  {
   "cell_type": "code",
   "execution_count": 7,
   "id": "06db21e4-8f95-428b-b24c-a719ede9aac6",
   "metadata": {},
   "outputs": [
    {
     "name": "stderr",
     "output_type": "stream",
     "text": [
      "\u001b[37mINFO: ModelCatalog - get_toolset - ner - slim-ner-tool\u001b[39m\n",
      "\u001b[37mINFO: ModelCatalog - get_toolset - sentiment - slim-sentiment-tool\u001b[39m\n",
      "\u001b[37mINFO: ModelCatalog - get_toolset - topics - slim-topics-tool\u001b[39m\n",
      "\u001b[37mINFO: ModelCatalog - get_toolset - ratings - slim-ratings-tool\u001b[39m\n",
      "\u001b[37mINFO: ModelCatalog - get_toolset - emotions - slim-emotions-tool\u001b[39m\n",
      "\u001b[37mINFO: ModelCatalog - get_toolset - nli - slim-nli-tool\u001b[39m\n",
      "\u001b[37mINFO: ModelCatalog - get_toolset - intent - slim-intent-tool\u001b[39m\n",
      "\u001b[37mINFO: ModelCatalog - get_toolset - sql - slim-sql-tool\u001b[39m\n",
      "\u001b[37mINFO: ModelCatalog - get_toolset - answer - bling-answer-tool\u001b[39m\n",
      "\u001b[37mINFO: ModelCatalog - get_toolset - category - slim-category-tool\u001b[39m\n",
      "\u001b[37mINFO: ModelCatalog - get_toolset - tags - slim-tags-tool\u001b[39m\n",
      "\u001b[37mINFO: ModelCatalog - get_toolset - summary - slim-summary-tool\u001b[39m\n",
      "\u001b[37mINFO: ModelCatalog - get_toolset - xsum - slim-xsum-tool\u001b[39m\n",
      "\u001b[37mINFO: ModelCatalog - get_toolset - extract - slim-extract-tool\u001b[39m\n",
      "\u001b[37mINFO: ModelCatalog - get_toolset - boolean - slim-boolean-tool\u001b[39m\n",
      "\u001b[37mINFO: ModelCatalog - get_toolset - sa-ner - slim-sa-ner-tool\u001b[39m\n",
      "\u001b[37mINFO: ModelCatalog - get_toolset - tags-3b - slim-tags-3b-tool\u001b[39m\n",
      "\u001b[37mINFO: ModelCatalog - get_toolset - q_gen - slim-q-gen-tiny-tool\u001b[39m\n",
      "\u001b[37mINFO: ModelCatalog - get_toolset - qa_gen - slim-qa-gen-tiny-tool\u001b[39m\n"
     ]
    },
    {
     "data": {
      "text/plain": [
       "0"
      ]
     },
     "execution_count": 7,
     "metadata": {},
     "output_type": "execute_result"
    }
   ],
   "source": [
    "# load the all models locally\n",
    "model_catalog.get_llm_toolkit()"
   ]
  },
  {
   "cell_type": "code",
   "execution_count": 8,
   "id": "06515da9-6a1d-470f-8aa6-cc1e8561f8b2",
   "metadata": {},
   "outputs": [
    {
     "data": {
      "text/plain": [
       "'/home/akhil/llmware_data/model_repo/'"
      ]
     },
     "execution_count": 8,
     "metadata": {},
     "output_type": "execute_result"
    }
   ],
   "source": [
    "# List the directory where the model is saved locally\n",
    "LLMWareConfig.get_model_repo_path()"
   ]
  },
  {
   "cell_type": "code",
   "execution_count": 9,
   "id": "82964db8-74b4-4d6c-9330-bc1c204c61c8",
   "metadata": {},
   "outputs": [
    {
     "name": "stdout",
     "output_type": "stream",
     "text": [
      "slim-topics-tool\n",
      "slim-sentiment-tool\n",
      "slim-category-tool\n",
      "slim-sa-ner-tool\n",
      "slim-nli-tool\n",
      "slim-extract-tool\n",
      "tokenizers_local_cache\n",
      "slim-ratings-tool\n",
      "slim-intent-tool\n",
      "slim-sql-tool\n",
      "slim-xsum-tool\n",
      "slim-emotions-tool\n",
      "slim-boolean-tool\n",
      "slim-tags-3b-tool\n",
      "slim-q-gen-tiny-tool\n",
      "slim-summary-tool\n",
      "slim-qa-gen-tiny-tool\n",
      "slim-tags-tool\n",
      "slim-ner-tool\n",
      "bling-answer-tool"
     ]
    }
   ],
   "source": [
    "# List the contents in the directory\n",
    "import os\n",
    "\n",
    "# Specify the folder path\n",
    "folder_path = LLMWareConfig.get_model_repo_path()\n",
    "\n",
    "try:\n",
    "    # List the contents of the folder\n",
    "    contents = os.listdir(folder_path)\n",
    "    \n",
    "    # Paginate the output (like `less`)\n",
    "    import pydoc\n",
    "    pydoc.pager(\"\\n\".join(contents))\n",
    "    \n",
    "except FileNotFoundError:\n",
    "    print(\"The specified folder does not exist.\")\n"
   ]
  },
  {
   "cell_type": "code",
   "execution_count": 10,
   "id": "ffe4fb35-eb35-4c93-b4d0-c8f5acdbb33c",
   "metadata": {},
   "outputs": [],
   "source": [
    "### Test on a negative review given in Amazon for a Bluetooth headset: \n",
    "\n",
    "text = \"\"\"\n",
    "The boAt Rockerz line is boAt's super cheap lineup for budget buyers. \n",
    "This will likely be many people's first foray into the world of wireless headphones, and is likely to turn many people off by its many compromises. \n",
    "It might be worth buying your grandma as a gift, but is not something I'd ever recommend buying for your own use.\n",
    "\n",
    "1. Sound Quality - awful. Honestly, the boAt Rockerz 450 does little more than bring your phone's audio loser to your ears. \n",
    "It isn't any significant improvement over your phone's speaker, and might actually be an active downgrade from your computer's speakers. \n",
    "Most audio sounds tinny, there's little to no bass, and absolutely zero noise cancellation. \n",
    "On or off, you can and will hear the outside world. \n",
    "Those who carry wireless headphones to tune out the outside world on walks or airplanes will be sorely disappointed. \n",
    "The soundstage is very small and shallow, and even non-audiophiles will notice the poor sound quality.\n",
    "2. Comfort - Horrendous. The boAt Rockerz 450 is a pain to wear, both literally and figuratively. \n",
    "The audio sounds horrible, and your ears will feel horrible too after an hour of use, maybe less. \n",
    "The good battery life means nothing if you cant use these headphones for more than 45 minutes at a time. \n",
    "After removing these headphones, your ears will hurt for a long while, and you'll feel like never wearing these again. \n",
    "The cans are very small, even for on-ear headphones, and people with spectacles or large heads will be even worse off. \n",
    "The frame doesn't extend very far, and also slips down quite easily.\n",
    "3. Build Quality - In a word - bad. See a pattern here? \n",
    "The headphones reflect their low price point, and are entirely made of cheap plastic. \n",
    "The plastic also doesn't flex much, and the headphones seem very easy to break by accident. \n",
    "It's worth noting that the cups don't extend much. \n",
    "If you're one of those guys who like to leave their headphones dangling around their neck when not in use, you'll find yourself unable to lower your head without your headphones biting into your jaw. \n",
    "Finally, the cups absorb a lot of sweat. You'l find yourself wanting to wash the cups and frustrated that you can't. It's really gross.\n",
    "5. Mic - Absolutely trash tier. You won't even be able to use the mic for how bad it is. \n",
    "I honestly forgot these headphones even had a mic because it's so soft and picks up so much background noise. \n",
    "Callers will not be able to hear you clearly and will keep urging you to switch back to your phone, and you can forget about trying to use these with your PC for voice chat or conference calls. \n",
    "Don't be fooled into thinking you're getting a mic with this headset - the mic only exists on paper. It's really not worth using.\n",
    "4. Final words - Just, don't. Spend a bit more, get a decent pair of wireless headphones. \n",
    "The headset doesn't even connect properly half the time, and when it does, you'll wish it didn't. \n",
    "Save up some money, work at McDonalds, and treat yourself to some good headphones. Anything, but not these ones. \n",
    "The only good thing about these cans is the battery life, but what use it battery life if you don't want to use these headphones.\n",
    "\"\"\"\n"
   ]
  },
  {
   "cell_type": "code",
   "execution_count": 11,
   "id": "25a452c8-3177-42bb-a6ad-babd8cfdfa62",
   "metadata": {},
   "outputs": [],
   "source": [
    "# load the required model\n",
    "sentiment = model_catalog.load_model(\"slim-sentiment-tool\")"
   ]
  },
  {
   "cell_type": "code",
   "execution_count": 12,
   "id": "13f419fc-d7a0-4a4c-8445-97ad4f15c901",
   "metadata": {},
   "outputs": [
    {
     "data": {
      "text/plain": [
       "{'llm_response': {'sentiment': ['negative']},\n",
       " 'usage': {'input': 880,\n",
       "  'output': 8,\n",
       "  'total': 888,\n",
       "  'metric': 'tokens',\n",
       "  'processing_time': 18.813408136367798,\n",
       "  'type': 'dict'}}"
      ]
     },
     "execution_count": 12,
     "metadata": {},
     "output_type": "execute_result"
    }
   ],
   "source": [
    "# get the required output using function_call method\n",
    "sentiment.function_call(\n",
    "                            context=text,\n",
    "                            params=['sentiment'],\n",
    "                            function='classify',\n",
    "                            get_logits= False\n",
    "                        )"
   ]
  },
  {
   "cell_type": "code",
   "execution_count": 13,
   "id": "9bb4647c-a77d-4be7-8968-f4bb91977e63",
   "metadata": {},
   "outputs": [],
   "source": [
    "# lets test the text for emotions"
   ]
  },
  {
   "cell_type": "code",
   "execution_count": 14,
   "id": "0cd285f0-0acb-4d14-a72b-c9c77d2fc10f",
   "metadata": {},
   "outputs": [],
   "source": [
    "# load the required model\n",
    "sentiment = model_catalog.load_model(\"slim-emotions-tool\")"
   ]
  },
  {
   "cell_type": "code",
   "execution_count": 15,
   "id": "db82b83f-dbf7-4c93-b0b4-0e6a21b87298",
   "metadata": {},
   "outputs": [
    {
     "data": {
      "text/plain": [
       "{'llm_response': {'emotions': ['disgusted']},\n",
       " 'usage': {'input': 881,\n",
       "  'output': 11,\n",
       "  'total': 892,\n",
       "  'metric': 'tokens',\n",
       "  'processing_time': 20.257984399795532,\n",
       "  'type': 'dict'}}"
      ]
     },
     "execution_count": 15,
     "metadata": {},
     "output_type": "execute_result"
    }
   ],
   "source": [
    "# # get the required output using function_call method\n",
    "sentiment.function_call(\n",
    "                            context=text,\n",
    "                            params=['emotions'],\n",
    "                            function='classify',\n",
    "                            get_logits= False\n",
    "                        )"
   ]
  },
  {
   "cell_type": "code",
   "execution_count": 16,
   "id": "90d67f37-e9fa-4af5-9cd0-35781a4cdd8c",
   "metadata": {},
   "outputs": [],
   "source": [
    "# get the required output using LLMfx method"
   ]
  },
  {
   "cell_type": "code",
   "execution_count": 17,
   "id": "df3fab7b-a9c6-48f9-ad51-6bb778cb359d",
   "metadata": {},
   "outputs": [],
   "source": [
    "# Load the libraries\n",
    "from llmware.agents import LLMfx"
   ]
  },
  {
   "cell_type": "code",
   "execution_count": 18,
   "id": "ab47a73f-50d0-4d35-a35c-cd8959e01f1d",
   "metadata": {},
   "outputs": [],
   "source": [
    "# Initialise the function LLMfx\n",
    "llmfx = LLMfx(verbose=False)"
   ]
  },
  {
   "cell_type": "code",
   "execution_count": 19,
   "id": "cf169308-106b-44c7-9b67-58e346398937",
   "metadata": {},
   "outputs": [
    {
     "data": {
      "text/plain": [
       "<llmware.models.GGUFGenerativeModel at 0x7cdb840c7650>"
      ]
     },
     "execution_count": 19,
     "metadata": {},
     "output_type": "execute_result"
    }
   ],
   "source": [
    "# Load the required models. Let's load and test it for emotions, ratings, and sentiment\n",
    "llmfx.load_tool(\"emotions\")\n",
    "llmfx.load_tool(\"ratings\")\n",
    "llmfx.load_tool(\"sentiment\")"
   ]
  },
  {
   "cell_type": "code",
   "execution_count": 20,
   "id": "b25ffdf8-69a6-48a2-8c42-a59acefcbb91",
   "metadata": {},
   "outputs": [
    {
     "data": {
      "text/plain": [
       "({'llm_response': {'emotions': ['disgusted']},\n",
       "  'dict_output': True,\n",
       "  'confidence_score': 0.4},\n",
       " {'llm_response': {'rating': ['1']},\n",
       "  'dict_output': True,\n",
       "  'confidence_score': 0.673},\n",
       " {'llm_response': {'sentiment': ['negative']},\n",
       "  'dict_output': True,\n",
       "  'confidence_score': 0.967,\n",
       "  'choices': [('negative', 22198, 0.967),\n",
       "   ('positive', 1066, 0.024),\n",
       "   ('neutral', 17821, 0.008)]})"
      ]
     },
     "execution_count": 20,
     "metadata": {},
     "output_type": "execute_result"
    }
   ],
   "source": [
    "# print the output of each model\n",
    "(\n",
    "    llmfx.emotions(text),\n",
    "    llmfx.ratings(text),\n",
    "    llmfx.sentiment(text)\n",
    ")"
   ]
  },
  {
   "cell_type": "code",
   "execution_count": 21,
   "id": "f65528c6-8fa1-43b5-975d-5776f7ca2e68",
   "metadata": {},
   "outputs": [
    {
     "name": "stdout",
     "output_type": "stream",
     "text": [
      "['disgusted', '1', 'negative']\n"
     ]
    }
   ],
   "source": [
    "# Print just the output rather than entire data\n",
    "result = [\n",
    "    llmfx.emotions(text)['llm_response']['emotions'][0],\n",
    "    llmfx.ratings(text)['llm_response']['rating'][0],\n",
    "    llmfx.sentiment(text)['llm_response']['sentiment'][0]\n",
    "]\n",
    "\n",
    "print(result)\n"
   ]
  },
  {
   "cell_type": "code",
   "execution_count": 22,
   "id": "6e168bea-1518-4c78-a58c-6f5f27361459",
   "metadata": {},
   "outputs": [
    {
     "name": "stdout",
     "output_type": "stream",
     "text": [
      "{'emotions': 'disgusted', 'rating': '1', 'sentiment': 'negative'}\n"
     ]
    }
   ],
   "source": [
    "# print the output in a structured way\n",
    "result = {\n",
    "    'emotions': llmfx.emotions(text)['llm_response']['emotions'][0],\n",
    "    'rating': llmfx.ratings(text)['llm_response']['rating'][0],\n",
    "    'sentiment': llmfx.sentiment(text)['llm_response']['sentiment'][0]\n",
    "}\n",
    "\n",
    "print(result)\n"
   ]
  },
  {
   "cell_type": "code",
   "execution_count": 25,
   "id": "ee5e248e-f36d-41b3-8ba4-6fdfc1e660f7",
   "metadata": {},
   "outputs": [],
   "source": [
    "# Test on a positive review given in amazon for a bluetooth headset: "
   ]
  },
  {
   "cell_type": "code",
   "execution_count": 23,
   "id": "c0f9243a-6e4c-4315-8049-677a294c2b3d",
   "metadata": {},
   "outputs": [],
   "source": [
    "pos_rev = \"\"\" I recently purchased the Boat headphones, and I couldn't be happier with my choice! \n",
    "              From the moment I unboxed them, the quality was evident. \n",
    "              The design is sleek and comfortable, perfect for long listening sessions. \n",
    "              The sound quality is impressive, with clear highs and rich bass that really enhances my music experience. \n",
    "              The battery life is outstanding; I’ve been using them for over a week without needing to recharge. \n",
    "              They also connect seamlessly to my devices via Bluetooth, and I’ve had no issues with connectivity.\n",
    "              One of my favorite features is the built-in microphone, which makes taking calls super convenient. \n",
    "              Overall, these headphones deliver great value for the price, and I highly recommend them to anyone looking for quality audio on a budget. \n",
    "              Perfect for daily use or workouts!\"\"\""
   ]
  },
  {
   "cell_type": "code",
   "execution_count": 24,
   "id": "5569f385-d669-4954-833d-ff02cf2d6944",
   "metadata": {},
   "outputs": [
    {
     "data": {
      "text/plain": [
       "({'llm_response': {'emotions': ['impressed']},\n",
       "  'dict_output': True,\n",
       "  'confidence_score': 0.555},\n",
       " {'llm_response': {'rating': ['5']},\n",
       "  'dict_output': True,\n",
       "  'confidence_score': 0.955},\n",
       " {'llm_response': {'sentiment': ['positive']},\n",
       "  'dict_output': True,\n",
       "  'confidence_score': 0.998,\n",
       "  'choices': [('positive', 1066, 0.998),\n",
       "   ('negative', 22198, 0.001),\n",
       "   ('neutral', 17821, 0.001)]})"
      ]
     },
     "execution_count": 24,
     "metadata": {},
     "output_type": "execute_result"
    }
   ],
   "source": [
    "# print the output of each model\n",
    "(\n",
    "    llmfx.emotions(pos_rev),\n",
    "    llmfx.ratings(pos_rev),\n",
    "    llmfx.sentiment(pos_rev)\n",
    ")"
   ]
  },
  {
   "cell_type": "code",
   "execution_count": 27,
   "id": "22ac4ca9-e92e-4565-9473-994bc0600e68",
   "metadata": {},
   "outputs": [
    {
     "name": "stdout",
     "output_type": "stream",
     "text": [
      "['impressed', '5', 'positive']\n"
     ]
    }
   ],
   "source": [
    "# Print just the output rather than the entire data\n",
    "result = [\n",
    "    llmfx.emotions(pos_rev)['llm_response']['emotions'][0],\n",
    "    llmfx.ratings(pos_rev)['llm_response']['rating'][0],\n",
    "    llmfx.sentiment(pos_rev)['llm_response']['sentiment'][0]\n",
    "]\n",
    "\n",
    "print(result)\n"
   ]
  },
  {
   "cell_type": "code",
   "execution_count": 28,
   "id": "2dd0f6fd-3f1f-4b32-98e5-95220fca555f",
   "metadata": {},
   "outputs": [
    {
     "name": "stdout",
     "output_type": "stream",
     "text": [
      "{'emotions': 'impressed', 'rating': '5', 'sentiment': 'positive'}\n"
     ]
    }
   ],
   "source": [
    "# print the output in a structured way\n",
    "result = {\n",
    "    'emotions': llmfx.emotions(pos_rev)['llm_response']['emotions'][0],\n",
    "    'rating': llmfx.ratings(pos_rev)['llm_response']['rating'][0],\n",
    "    'sentiment': llmfx.sentiment(pos_rev)['llm_response']['sentiment'][0]\n",
    "}\n",
    "\n",
    "print(result)\n"
   ]
  },
  {
   "cell_type": "code",
   "execution_count": 29,
   "id": "648d3ebb-63ba-454f-bba9-9cdc861de24b",
   "metadata": {},
   "outputs": [],
   "source": [
    "# Test on a neutral review given in amazon for a bluetooth headset: "
   ]
  },
  {
   "cell_type": "code",
   "execution_count": 34,
   "id": "e6136111-1142-43a6-b642-089a8d952632",
   "metadata": {},
   "outputs": [],
   "source": [
    "neutral_rev = \"\"\" The product is good and the quality is nice. \n",
    "                  The problem is that Bluetooth mode is fine and okay, but the offline aux cable code buzzed on the left speaker when I bought it, which is annoying.\n",
    "                    \"\"\""
   ]
  },
  {
   "cell_type": "code",
   "execution_count": 35,
   "id": "9a0d687e-0fc7-4bb7-9006-b89e511eeb40",
   "metadata": {},
   "outputs": [
    {
     "data": {
      "text/plain": [
       "({'llm_response': {'emotions': ['annoyed']},\n",
       "  'dict_output': True,\n",
       "  'confidence_score': 0.761},\n",
       " {'llm_response': {'rating': ['3']},\n",
       "  'dict_output': True,\n",
       "  'confidence_score': 0.479},\n",
       " {'llm_response': {'sentiment': ['negative']},\n",
       "  'dict_output': True,\n",
       "  'confidence_score': 0.794,\n",
       "  'choices': [('negative', 22198, 0.794),\n",
       "   ('neutral', 17821, 0.123),\n",
       "   ('positive', 1066, 0.082)]})"
      ]
     },
     "execution_count": 35,
     "metadata": {},
     "output_type": "execute_result"
    }
   ],
   "source": [
    "# print the output of each model\n",
    "(\n",
    "    llmfx.emotions(neutral_rev),\n",
    "    llmfx.ratings(neutral_rev),\n",
    "    llmfx.sentiment(neutral_rev)\n",
    ")"
   ]
  },
  {
   "cell_type": "code",
   "execution_count": 36,
   "id": "9a994ab1-176f-4913-ad7e-48b85f811ab6",
   "metadata": {},
   "outputs": [
    {
     "name": "stdout",
     "output_type": "stream",
     "text": [
      "['annoyed', '3', 'negative']\n"
     ]
    }
   ],
   "source": [
    "# Print just the output rather than the entire data\n",
    "result = [\n",
    "    llmfx.emotions(neutral_rev)['llm_response']['emotions'][0],\n",
    "    llmfx.ratings(neutral_rev)['llm_response']['rating'][0],\n",
    "    llmfx.sentiment(neutral_rev)['llm_response']['sentiment'][0]\n",
    "]\n",
    "\n",
    "print(result)\n"
   ]
  },
  {
   "cell_type": "code",
   "execution_count": 37,
   "id": "100c4fd4-3f4b-4af8-b2f6-535b2bd37846",
   "metadata": {},
   "outputs": [
    {
     "name": "stdout",
     "output_type": "stream",
     "text": [
      "{'emotions': 'annoyed', 'rating': '3', 'sentiment': 'negative'}\n"
     ]
    }
   ],
   "source": [
    "# print the output in a structured way\n",
    "result = {\n",
    "    'emotions': llmfx.emotions(neutral_rev)['llm_response']['emotions'][0],\n",
    "    'rating': llmfx.ratings(neutral_rev)['llm_response']['rating'][0],\n",
    "    'sentiment': llmfx.sentiment(neutral_rev)['llm_response']['sentiment'][0]\n",
    "}\n",
    "\n",
    "print(result)\n"
   ]
  },
  {
   "cell_type": "code",
   "execution_count": null,
   "id": "073b1d1f-afde-4ddc-916f-90f04fb40419",
   "metadata": {},
   "outputs": [],
   "source": []
  },
  {
   "cell_type": "markdown",
   "id": "bab4679b-baf3-4209-88e1-04f4eaf4f1c8",
   "metadata": {},
   "source": [
    "# ..............................................Thank You..........................................."
   ]
  },
  {
   "cell_type": "code",
   "execution_count": null,
   "id": "dadedf9e-6fba-48f5-9641-70c4f0e87d1e",
   "metadata": {},
   "outputs": [],
   "source": []
  },
  {
   "cell_type": "code",
   "execution_count": null,
   "id": "d41f6132-8808-431e-8c07-731b28fbfa89",
   "metadata": {},
   "outputs": [],
   "source": []
  },
  {
   "cell_type": "code",
   "execution_count": null,
   "id": "cb9f0630-94ae-43a7-81d6-b24197262079",
   "metadata": {},
   "outputs": [],
   "source": []
  },
  {
   "cell_type": "code",
   "execution_count": null,
   "id": "3e8d9771-6faa-4f0a-88dc-d4ff2fd575b4",
   "metadata": {},
   "outputs": [],
   "source": []
  },
  {
   "cell_type": "code",
   "execution_count": null,
   "id": "424a4850-7506-4358-9546-fcbdb30f428e",
   "metadata": {},
   "outputs": [],
   "source": []
  },
  {
   "cell_type": "code",
   "execution_count": null,
   "id": "76a6e956-40d2-45a9-8251-2bb1638639ae",
   "metadata": {},
   "outputs": [],
   "source": []
  },
  {
   "cell_type": "code",
   "execution_count": null,
   "id": "41e5ef24-7e2e-4f83-98c8-994b3087078a",
   "metadata": {},
   "outputs": [],
   "source": []
  },
  {
   "cell_type": "code",
   "execution_count": null,
   "id": "da73f565-b727-4b55-8cea-9a8cfbc468a7",
   "metadata": {},
   "outputs": [],
   "source": []
  },
  {
   "cell_type": "code",
   "execution_count": null,
   "id": "31494053-c347-4bb1-b9a9-182e56dcdc58",
   "metadata": {},
   "outputs": [],
   "source": []
  },
  {
   "cell_type": "code",
   "execution_count": null,
   "id": "0318ad11-3c15-4658-a025-0d52d52e1db5",
   "metadata": {},
   "outputs": [],
   "source": []
  },
  {
   "cell_type": "code",
   "execution_count": null,
   "id": "4b2e04c9-6995-4f0c-8336-03452df933a8",
   "metadata": {},
   "outputs": [],
   "source": []
  }
 ],
 "metadata": {
  "kernelspec": {
   "display_name": "Python 3 (ipykernel)",
   "language": "python",
   "name": "python3"
  },
  "language_info": {
   "codemirror_mode": {
    "name": "ipython",
    "version": 3
   },
   "file_extension": ".py",
   "mimetype": "text/x-python",
   "name": "python",
   "nbconvert_exporter": "python",
   "pygments_lexer": "ipython3",
   "version": "3.11.9"
  }
 },
 "nbformat": 4,
 "nbformat_minor": 5
}
